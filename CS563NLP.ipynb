{
 "cells": [
  {
   "cell_type": "code",
   "execution_count": 2,
   "id": "50676a1d",
   "metadata": {},
   "outputs": [
    {
     "name": "stderr",
     "output_type": "stream",
     "text": [
      "2022-11-14 09:56:00.420539: W tensorflow/stream_executor/platform/default/dso_loader.cc:64] Could not load dynamic library 'libcudart.so.11.0'; dlerror: libcudart.so.11.0: cannot open shared object file: No such file or directory\n",
      "2022-11-14 09:56:00.420563: I tensorflow/stream_executor/cuda/cudart_stub.cc:29] Ignore above cudart dlerror if you do not have a GPU set up on your machine.\n"
     ]
    }
   ],
   "source": [
    "from tensorflow.keras import layers\n",
    "from tensorflow import keras\n",
    "import tensorflow as tf\n",
    "\n",
    "from sklearn.preprocessing import MultiLabelBinarizer\n",
    "from sklearn.model_selection import train_test_split\n",
    "import matplotlib.pyplot as plt\n",
    "from ast import literal_eval\n",
    "import pandas as pd\n",
    "import numpy as np\n",
    "\n",
    "import keras\n",
    "from keras import optimizers\n",
    "from keras import backend as K\n",
    "from keras import regularizers\n",
    "from keras.models import Sequential\n",
    "from keras.layers import Dense, Activation, Dropout, Flatten\n",
    "from keras.layers import Embedding, Conv1D, MaxPooling1D, GlobalMaxPooling1D \n",
    "#from keras.utils import plot_model\n",
    "from keras.preprocessing import sequence\n",
    "from keras.preprocessing.text import Tokenizer\n",
    "from keras.callbacks import EarlyStopping\n",
    "from tqdm import tqdm\n",
    "from nltk.corpus import stopwords\n",
    "from nltk.tokenize import RegexpTokenizer \n",
    "import os, re, csv, math, codecs\n",
    "import fasttext as ft\n",
    "from nltk.tokenize import WhitespaceTokenizer\n",
    "import pickle\n",
    "from tensorflow.keras.utils import to_categorical"
   ]
  },
  {
   "cell_type": "code",
   "execution_count": 3,
   "id": "0745fa7e",
   "metadata": {},
   "outputs": [],
   "source": [
    "data=pd.read_csv('data.csv',header=None)"
   ]
  },
  {
   "cell_type": "code",
   "execution_count": 4,
   "id": "52768371",
   "metadata": {},
   "outputs": [],
   "source": [
    "data = data.sample(frac=1)"
   ]
  },
  {
   "cell_type": "code",
   "execution_count": 5,
   "id": "041c5830",
   "metadata": {},
   "outputs": [
    {
     "name": "stdout",
     "output_type": "stream",
     "text": [
      "There are 82657 rows in the dataset.\n"
     ]
    }
   ],
   "source": [
    "print(f\"There are {len(data)} rows in the dataset.\")"
   ]
  },
  {
   "cell_type": "code",
   "execution_count": 6,
   "id": "cfc97ea5",
   "metadata": {},
   "outputs": [
    {
     "data": {
      "text/plain": [
       "(82657, 11)"
      ]
     },
     "execution_count": 6,
     "metadata": {},
     "output_type": "execute_result"
    }
   ],
   "source": [
    "data.shape"
   ]
  },
  {
   "cell_type": "code",
   "execution_count": 7,
   "id": "49016d2a",
   "metadata": {},
   "outputs": [
    {
     "data": {
      "text/html": [
       "<div>\n",
       "<style scoped>\n",
       "    .dataframe tbody tr th:only-of-type {\n",
       "        vertical-align: middle;\n",
       "    }\n",
       "\n",
       "    .dataframe tbody tr th {\n",
       "        vertical-align: top;\n",
       "    }\n",
       "\n",
       "    .dataframe thead th {\n",
       "        text-align: right;\n",
       "    }\n",
       "</style>\n",
       "<table border=\"1\" class=\"dataframe\">\n",
       "  <thead>\n",
       "    <tr style=\"text-align: right;\">\n",
       "      <th></th>\n",
       "      <th>0</th>\n",
       "      <th>1</th>\n",
       "      <th>2</th>\n",
       "      <th>3</th>\n",
       "      <th>4</th>\n",
       "      <th>5</th>\n",
       "      <th>6</th>\n",
       "      <th>7</th>\n",
       "      <th>8</th>\n",
       "      <th>9</th>\n",
       "      <th>10</th>\n",
       "    </tr>\n",
       "  </thead>\n",
       "  <tbody>\n",
       "    <tr>\n",
       "      <th>31134</th>\n",
       "      <td>44571</td>\n",
       "      <td>http://arxiv.org/abs/2204.06849v1</td>\n",
       "      <td>Ensuring accurate stain reproduction in deep g...</td>\n",
       "      <td>Immunohistochemistry is a valuable diagnostic ...</td>\n",
       "      <td>NaN</td>\n",
       "      <td>2022-04-14 09:51:04+00:00</td>\n",
       "      <td>eess.IV</td>\n",
       "      <td>NaN</td>\n",
       "      <td>Eighteen pages, six figures</td>\n",
       "      <td>[arxiv.Result.Author('Christopher D. Walsh'), ...</td>\n",
       "      <td>eess</td>\n",
       "    </tr>\n",
       "  </tbody>\n",
       "</table>\n",
       "</div>"
      ],
      "text/plain": [
       "          0                                  1   \\\n",
       "31134  44571  http://arxiv.org/abs/2204.06849v1   \n",
       "\n",
       "                                                      2   \\\n",
       "31134  Ensuring accurate stain reproduction in deep g...   \n",
       "\n",
       "                                                      3    4   \\\n",
       "31134  Immunohistochemistry is a valuable diagnostic ...  NaN   \n",
       "\n",
       "                              5        6    7                            8   \\\n",
       "31134  2022-04-14 09:51:04+00:00  eess.IV  NaN  Eighteen pages, six figures   \n",
       "\n",
       "                                                      9     10  \n",
       "31134  [arxiv.Result.Author('Christopher D. Walsh'), ...  eess  "
      ]
     },
     "execution_count": 7,
     "metadata": {},
     "output_type": "execute_result"
    }
   ],
   "source": [
    "data.head(1)"
   ]
  },
  {
   "cell_type": "code",
   "execution_count": 8,
   "id": "93112e75",
   "metadata": {},
   "outputs": [
    {
     "name": "stdout",
     "output_type": "stream",
     "text": [
      "Number of rows in training set: 66125\n",
      "Number of rows in test set: 16532\n"
     ]
    }
   ],
   "source": [
    "test_split = 0.2\n",
    "\n",
    "# Initial train and test split.\n",
    "train_df, test_df = train_test_split(data,test_size=test_split)\n",
    "\n",
    "print(f\"Number of rows in training set: {len(train_df)}\")\n",
    "print(f\"Number of rows in test set: {len(test_df)}\")"
   ]
  },
  {
   "cell_type": "code",
   "execution_count": 9,
   "id": "f2945b55",
   "metadata": {},
   "outputs": [
    {
     "data": {
      "text/html": [
       "<div>\n",
       "<style scoped>\n",
       "    .dataframe tbody tr th:only-of-type {\n",
       "        vertical-align: middle;\n",
       "    }\n",
       "\n",
       "    .dataframe tbody tr th {\n",
       "        vertical-align: top;\n",
       "    }\n",
       "\n",
       "    .dataframe thead th {\n",
       "        text-align: right;\n",
       "    }\n",
       "</style>\n",
       "<table border=\"1\" class=\"dataframe\">\n",
       "  <thead>\n",
       "    <tr style=\"text-align: right;\">\n",
       "      <th></th>\n",
       "      <th>0</th>\n",
       "      <th>1</th>\n",
       "      <th>2</th>\n",
       "      <th>3</th>\n",
       "      <th>4</th>\n",
       "      <th>5</th>\n",
       "      <th>6</th>\n",
       "      <th>7</th>\n",
       "      <th>8</th>\n",
       "      <th>9</th>\n",
       "      <th>10</th>\n",
       "    </tr>\n",
       "  </thead>\n",
       "  <tbody>\n",
       "    <tr>\n",
       "      <th>30560</th>\n",
       "      <td>195823</td>\n",
       "      <td>http://arxiv.org/abs/2004.07311v1</td>\n",
       "      <td>Edge Computing For Smart Health: Context-aware...</td>\n",
       "      <td>Improving efficiency of healthcare systems is ...</td>\n",
       "      <td>IEEE Network (Volume: 33 , Issue: 3 , May/June...</td>\n",
       "      <td>2020-04-15 19:50:24+00:00</td>\n",
       "      <td>eess.SP</td>\n",
       "      <td>10.1109/MNET.2019.1800083</td>\n",
       "      <td>NaN</td>\n",
       "      <td>[arxiv.Result.Author('Alaa Awad Abdellatif'), ...</td>\n",
       "      <td>eess</td>\n",
       "    </tr>\n",
       "  </tbody>\n",
       "</table>\n",
       "</div>"
      ],
      "text/plain": [
       "           0                                  1   \\\n",
       "30560  195823  http://arxiv.org/abs/2004.07311v1   \n",
       "\n",
       "                                                      2   \\\n",
       "30560  Edge Computing For Smart Health: Context-aware...   \n",
       "\n",
       "                                                      3   \\\n",
       "30560  Improving efficiency of healthcare systems is ...   \n",
       "\n",
       "                                                      4   \\\n",
       "30560  IEEE Network (Volume: 33 , Issue: 3 , May/June...   \n",
       "\n",
       "                              5        6                          7    8   \\\n",
       "30560  2020-04-15 19:50:24+00:00  eess.SP  10.1109/MNET.2019.1800083  NaN   \n",
       "\n",
       "                                                      9     10  \n",
       "30560  [arxiv.Result.Author('Alaa Awad Abdellatif'), ...  eess  "
      ]
     },
     "execution_count": 9,
     "metadata": {},
     "output_type": "execute_result"
    }
   ],
   "source": [
    "train_df.head(1)"
   ]
  },
  {
   "cell_type": "code",
   "execution_count": 10,
   "id": "9eb7d903",
   "metadata": {},
   "outputs": [],
   "source": [
    "#processing label of training/testing data\n",
    "label_train=train_df[10].values\n",
    "label_test=test_df[10].values\n",
    "#print(label_test)\n",
    "catg=['physics', 'cs', 'q-bio', 'math', 'eess']\n",
    "num_classes = len(catg)\n",
    "mapping = {}\n",
    "for x in range(len(catg)):\n",
    "    mapping[catg[x]] = x\n",
    "    \n",
    "# integer representation\n",
    "for x in range(len(label_train)):\n",
    "    label_train[x] = mapping[label_train[x]]\n",
    "#processing lebal of testing data\n",
    "\n",
    "# integer representation\n",
    "for x in range(len(label_test)):\n",
    "    label_test[x] = mapping[label_test[x]]\n",
    "  \n",
    "#conveting to one-hot-encoding\n",
    "y_train = to_categorical(label_train)\n",
    "y_test=to_categorical(label_test)  "
   ]
  },
  {
   "cell_type": "code",
   "execution_count": 11,
   "id": "8317f94e",
   "metadata": {},
   "outputs": [
    {
     "data": {
      "text/plain": [
       "count    66125.000000\n",
       "mean       163.327758\n",
       "std         59.288694\n",
       "min          6.000000\n",
       "25%        121.000000\n",
       "50%        162.000000\n",
       "75%        203.000000\n",
       "max        530.000000\n",
       "Name: 3, dtype: float64"
      ]
     },
     "execution_count": 11,
     "metadata": {},
     "output_type": "execute_result"
    }
   ],
   "source": [
    "train_df[3].apply(lambda x: len(x.split(\" \"))).describe()"
   ]
  },
  {
   "cell_type": "code",
   "execution_count": 12,
   "id": "f1af2592",
   "metadata": {},
   "outputs": [],
   "source": [
    "tokenizer = WhitespaceTokenizer()\n",
    "raw_docs_train = train_df[3].tolist()\n",
    "raw_docs_test = test_df[3].tolist() "
   ]
  },
  {
   "cell_type": "code",
   "execution_count": 13,
   "id": "4c6a9cd6",
   "metadata": {},
   "outputs": [
    {
     "name": "stdout",
     "output_type": "stream",
     "text": [
      "pre-processing train data...\n"
     ]
    },
    {
     "name": "stderr",
     "output_type": "stream",
     "text": [
      "100%|██████████████████████████████████| 66125/66125 [00:02<00:00, 27957.99it/s]\n"
     ]
    }
   ],
   "source": [
    "print(\"pre-processing train data...\")\n",
    "processed_docs_train = []\n",
    "for line in tqdm(raw_docs_train):\n",
    "    #line=text_cleaner(line)\n",
    "    tokens = tokenizer.tokenize(line)\n",
    "    #filtered = [word for word in tokens if word not in stop_words]\n",
    "    processed_docs_train.append(\" \".join(tokens))\n",
    "#end for"
   ]
  },
  {
   "cell_type": "code",
   "execution_count": 14,
   "id": "1b498084",
   "metadata": {},
   "outputs": [
    {
     "name": "stdout",
     "output_type": "stream",
     "text": [
      "pre-processing test data...\n"
     ]
    },
    {
     "name": "stderr",
     "output_type": "stream",
     "text": [
      "100%|██████████████████████████████████| 16532/16532 [00:00<00:00, 27759.84it/s]\n"
     ]
    }
   ],
   "source": [
    "print(\"pre-processing test data...\")\n",
    "processed_docs_test = []\n",
    "for line in tqdm(raw_docs_test):\n",
    "    #line=text_cleaner(line)\n",
    "    tokens = tokenizer.tokenize(line)\n",
    "    #filtered = [word for word in tokens if word not in stop_words]\n",
    "    processed_docs_test.append(\" \".join(tokens))"
   ]
  },
  {
   "cell_type": "code",
   "execution_count": 16,
   "id": "0481f66c",
   "metadata": {},
   "outputs": [],
   "source": [
    "max_seq_len = 175"
   ]
  },
  {
   "cell_type": "code",
   "execution_count": 17,
   "id": "c1e35cbf",
   "metadata": {},
   "outputs": [
    {
     "name": "stdout",
     "output_type": "stream",
     "text": [
      "tokenizing input data...\n",
      "dictionary size:  131631\n"
     ]
    }
   ],
   "source": [
    "MAX_NB_WORDS = 500000\n",
    "print(\"tokenizing input data...\")\n",
    "tokenizer = Tokenizer(num_words=MAX_NB_WORDS, lower=True, char_level=False)\n",
    "tokenizer.fit_on_texts(processed_docs_train + processed_docs_test)  #leaky\n",
    "word_seq_train = tokenizer.texts_to_sequences(processed_docs_train)\n",
    "word_seq_test = tokenizer.texts_to_sequences(processed_docs_test)\n",
    "word_index = tokenizer.word_index\n",
    "print(\"dictionary size: \", len(word_index))"
   ]
  },
  {
   "cell_type": "code",
   "execution_count": 18,
   "id": "9bac46f3",
   "metadata": {},
   "outputs": [],
   "source": [
    "import pickle\n",
    "\n",
    "# saving\n",
    "with open('dic_main_cat.pickle', 'wb') as handle:\n",
    "    pickle.dump(tokenizer, handle, protocol=pickle.HIGHEST_PROTOCOL)"
   ]
  },
  {
   "cell_type": "code",
   "execution_count": 19,
   "id": "16a3d649",
   "metadata": {},
   "outputs": [],
   "source": [
    "#loading embedding\n",
    "ft_model = ft.load_model(\"cc.en.300.bin\")"
   ]
  },
  {
   "cell_type": "code",
   "execution_count": 20,
   "id": "06180f21",
   "metadata": {},
   "outputs": [],
   "source": [
    "from keras_preprocessing.sequence import pad_sequences"
   ]
  },
  {
   "cell_type": "code",
   "execution_count": 21,
   "id": "721e7d2b",
   "metadata": {},
   "outputs": [],
   "source": [
    "#pad sequences\n",
    "word_seq_train = pad_sequences(word_seq_train, maxlen=max_seq_len)\n",
    "word_seq_test = pad_sequences(word_seq_test, maxlen=max_seq_len)    "
   ]
  },
  {
   "cell_type": "code",
   "execution_count": 22,
   "id": "1fe21e73",
   "metadata": {},
   "outputs": [
    {
     "name": "stdout",
     "output_type": "stream",
     "text": [
      "[ 2191 41675     1  1100   945   640   957   115   137  4294  1260   143\n",
      "   853 30824     3 58942  2548   115  1830    26    55  3960    78     1\n",
      "   245   356  5402  3259   944     2     4   710    58     5  5211   120\n",
      "    32   115  2889  1610    26  3960  1565 30825     6    13    35     7\n",
      "    66     1  1133     2 24450   558   143    10  2869   158 30824 58942\n",
      "    15  1243   680     5  1524   746  1957    24   450  1343     3   115\n",
      "     6   120    32    26     1   838  1689 41676   558  1689 23433 24450\n",
      "  3989   120    32    24    18     1  5402    16    74    16  4963    72\n",
      "    18     1   545   120    32 19667     3  5211   580     3   115     2\n",
      "   388   467  5185   275  1598    84   344    11 18623  2549  1065    90\n",
      "   352   456    15     1 41675    37    16  1036  1343     3   374  2286\n",
      "     7    66  1848  1827     5  2409 24450     6     1   356  5402   350\n",
      "    15  1722     3  2220  1857     3   523  1617    82  8109   246     7\n",
      "   424   489   259     5 24450     3   116  2552    28    10    36     1\n",
      "  1440     2  7404    49  1363   137 24450]\n"
     ]
    }
   ],
   "source": [
    "print(word_seq_train[12])"
   ]
  },
  {
   "cell_type": "code",
   "execution_count": 23,
   "id": "a5d55ce2",
   "metadata": {},
   "outputs": [
    {
     "name": "stdout",
     "output_type": "stream",
     "text": [
      "preparing embedding matrix...\n",
      "number of null word embeddings: 28\n"
     ]
    }
   ],
   "source": [
    "#embedding matrix\n",
    "embed_dim = 300\n",
    "print('preparing embedding matrix...')\n",
    "words_not_found = []\n",
    "nb_words = min(MAX_NB_WORDS, len(word_index)+1)\n",
    "embedding_matrix = np.zeros((nb_words, embed_dim))\n",
    "for word, i in word_index.items():\n",
    "    if i >= nb_words:\n",
    "        continue\n",
    "    embedding_vector = ft_model.get_word_vector(word)\n",
    "    if (embedding_vector is not None) and len(embedding_vector) > 0:\n",
    "        # words not found in embedding index will be all-zeros.\n",
    "        embedding_matrix[i] = embedding_vector\n",
    "    else:\n",
    "        words_not_found.append(word)\n",
    "print('number of null word embeddings: %d' % np.sum(np.sum(embedding_matrix, axis=1) == 0))"
   ]
  },
  {
   "cell_type": "code",
   "execution_count": 24,
   "id": "83a523f0",
   "metadata": {},
   "outputs": [],
   "source": [
    "#model parameters\n",
    "num_filters = 30\n",
    "weight_decay = 1e-4"
   ]
  },
  {
   "cell_type": "code",
   "execution_count": 25,
   "id": "c13805c4",
   "metadata": {},
   "outputs": [
    {
     "name": "stdout",
     "output_type": "stream",
     "text": [
      "CNN architecture\n"
     ]
    },
    {
     "name": "stderr",
     "output_type": "stream",
     "text": [
      "2022-11-14 10:02:37.911704: W tensorflow/stream_executor/platform/default/dso_loader.cc:64] Could not load dynamic library 'libcuda.so.1'; dlerror: libcuda.so.1: cannot open shared object file: No such file or directory\n",
      "2022-11-14 10:02:37.922610: W tensorflow/stream_executor/cuda/cuda_driver.cc:269] failed call to cuInit: UNKNOWN ERROR (303)\n",
      "2022-11-14 10:02:37.928898: I tensorflow/stream_executor/cuda/cuda_diagnostics.cc:156] kernel driver does not appear to be running on this host (saurabh-hp-prodesk): /proc/driver/nvidia/version does not exist\n",
      "2022-11-14 10:02:37.972508: I tensorflow/core/platform/cpu_feature_guard.cc:193] This TensorFlow binary is optimized with oneAPI Deep Neural Network Library (oneDNN) to use the following CPU instructions in performance-critical operations:  AVX2 FMA\n",
      "To enable them in other operations, rebuild TensorFlow with the appropriate compiler flags.\n",
      "2022-11-14 10:02:38.070743: W tensorflow/core/framework/cpu_allocator_impl.cc:82] Allocation of 157958400 exceeds 10% of free system memory.\n",
      "2022-11-14 10:02:38.098083: W tensorflow/core/framework/cpu_allocator_impl.cc:82] Allocation of 157958400 exceeds 10% of free system memory.\n",
      "2022-11-14 10:02:38.117163: W tensorflow/core/framework/cpu_allocator_impl.cc:82] Allocation of 157958400 exceeds 10% of free system memory.\n",
      "2022-11-14 10:02:38.232179: W tensorflow/core/framework/cpu_allocator_impl.cc:82] Allocation of 157958400 exceeds 10% of free system memory.\n"
     ]
    },
    {
     "name": "stdout",
     "output_type": "stream",
     "text": [
      "Model: \"sequential\"\n",
      "_________________________________________________________________\n",
      " Layer (type)                Output Shape              Param #   \n",
      "=================================================================\n",
      " embedding (Embedding)       (None, 175, 300)          39489600  \n",
      "                                                                 \n",
      " conv1d (Conv1D)             (None, 175, 30)           45030     \n",
      "                                                                 \n",
      " max_pooling1d (MaxPooling1D  (None, 87, 30)           0         \n",
      " )                                                               \n",
      "                                                                 \n",
      " conv1d_1 (Conv1D)           (None, 87, 30)            4530      \n",
      "                                                                 \n",
      " global_max_pooling1d (Globa  (None, 30)               0         \n",
      " lMaxPooling1D)                                                  \n",
      "                                                                 \n",
      " dropout (Dropout)           (None, 30)                0         \n",
      "                                                                 \n",
      " dense (Dense)               (None, 32)                992       \n",
      "                                                                 \n",
      " dense_1 (Dense)             (None, 5)                 165       \n",
      "                                                                 \n",
      "=================================================================\n",
      "Total params: 39,540,317\n",
      "Trainable params: 50,717\n",
      "Non-trainable params: 39,489,600\n",
      "_________________________________________________________________\n"
     ]
    }
   ],
   "source": [
    "#CNN architecture\n",
    "print(\"CNN architecture\")\n",
    "model = Sequential()\n",
    "model.add(Embedding(nb_words, embed_dim,\n",
    "          weights=[embedding_matrix], input_length=max_seq_len, trainable=False))\n",
    "model.add(Conv1D(num_filters, 5, activation='relu', padding='same'))\n",
    "model.add(MaxPooling1D(2))\n",
    "model.add(Conv1D(num_filters, 5, activation='relu', padding='same'))\n",
    "model.add(GlobalMaxPooling1D())\n",
    "model.add(Dropout(0.5))\n",
    "model.add(Dense(32, activation='relu', kernel_regularizer=regularizers.l2(weight_decay)))\n",
    "model.add(Dense(num_classes, activation='softmax'))  #multi-label (k-hot encoding)\n",
    "adam = tf.optimizers.Adam()\n",
    "model.compile(loss='binary_crossentropy', optimizer=adam, metrics=['accuracy'])\n",
    "model.summary()"
   ]
  },
  {
   "cell_type": "code",
   "execution_count": 26,
   "id": "44e198db",
   "metadata": {},
   "outputs": [],
   "source": [
    "#training params\n",
    "batch_size = 256\n",
    "num_epochs = 100"
   ]
  },
  {
   "cell_type": "code",
   "execution_count": 27,
   "id": "2e9971cf",
   "metadata": {},
   "outputs": [],
   "source": [
    "#early stopping\n",
    "es = EarlyStopping(monitor='val_loss', mode='min', verbose=1, patience=50)"
   ]
  },
  {
   "cell_type": "code",
   "execution_count": 28,
   "id": "938f8f4b",
   "metadata": {
    "scrolled": true
   },
   "outputs": [
    {
     "name": "stderr",
     "output_type": "stream",
     "text": [
      "2022-11-14 10:02:52.564234: W tensorflow/core/framework/cpu_allocator_impl.cc:82] Allocation of 41658400 exceeds 10% of free system memory.\n"
     ]
    },
    {
     "name": "stdout",
     "output_type": "stream",
     "text": [
      "Epoch 1/100\n",
      "233/233 [==============================] - 16s 67ms/step - loss: 0.4327 - accuracy: 0.4467 - val_loss: 0.3023 - val_accuracy: 0.6536\n",
      "Epoch 2/100\n",
      "233/233 [==============================] - 15s 66ms/step - loss: 0.3047 - accuracy: 0.6650 - val_loss: 0.2657 - val_accuracy: 0.7095\n",
      "Epoch 3/100\n",
      "233/233 [==============================] - 16s 67ms/step - loss: 0.2767 - accuracy: 0.7026 - val_loss: 0.2497 - val_accuracy: 0.7323\n",
      "Epoch 4/100\n",
      "233/233 [==============================] - 17s 75ms/step - loss: 0.2590 - accuracy: 0.7229 - val_loss: 0.2371 - val_accuracy: 0.7434\n",
      "Epoch 5/100\n",
      "233/233 [==============================] - 19s 81ms/step - loss: 0.2444 - accuracy: 0.7458 - val_loss: 0.2225 - val_accuracy: 0.7768\n",
      "Epoch 6/100\n",
      "233/233 [==============================] - 17s 73ms/step - loss: 0.2324 - accuracy: 0.7626 - val_loss: 0.2119 - val_accuracy: 0.7906\n",
      "Epoch 7/100\n",
      "233/233 [==============================] - 16s 69ms/step - loss: 0.2205 - accuracy: 0.7768 - val_loss: 0.2049 - val_accuracy: 0.7974\n",
      "Epoch 8/100\n",
      "233/233 [==============================] - 17s 71ms/step - loss: 0.2122 - accuracy: 0.7868 - val_loss: 0.2015 - val_accuracy: 0.8008\n",
      "Epoch 9/100\n",
      "233/233 [==============================] - 16s 69ms/step - loss: 0.2057 - accuracy: 0.7941 - val_loss: 0.1983 - val_accuracy: 0.8048\n",
      "Epoch 10/100\n",
      "233/233 [==============================] - 17s 73ms/step - loss: 0.2029 - accuracy: 0.7986 - val_loss: 0.1939 - val_accuracy: 0.8105\n",
      "Epoch 11/100\n",
      "233/233 [==============================] - 17s 74ms/step - loss: 0.1979 - accuracy: 0.8045 - val_loss: 0.1983 - val_accuracy: 0.8022\n",
      "Epoch 12/100\n",
      "233/233 [==============================] - 17s 74ms/step - loss: 0.1962 - accuracy: 0.8052 - val_loss: 0.1961 - val_accuracy: 0.8040\n",
      "Epoch 13/100\n",
      "233/233 [==============================] - 18s 76ms/step - loss: 0.1912 - accuracy: 0.8120 - val_loss: 0.1910 - val_accuracy: 0.8111\n",
      "Epoch 14/100\n",
      "233/233 [==============================] - 17s 73ms/step - loss: 0.1888 - accuracy: 0.8152 - val_loss: 0.1873 - val_accuracy: 0.8152\n",
      "Epoch 15/100\n",
      "233/233 [==============================] - 16s 70ms/step - loss: 0.1850 - accuracy: 0.8184 - val_loss: 0.1871 - val_accuracy: 0.8169\n",
      "Epoch 16/100\n",
      "233/233 [==============================] - 16s 68ms/step - loss: 0.1820 - accuracy: 0.8221 - val_loss: 0.1930 - val_accuracy: 0.8066\n",
      "Epoch 17/100\n",
      "233/233 [==============================] - 16s 68ms/step - loss: 0.1792 - accuracy: 0.8243 - val_loss: 0.1881 - val_accuracy: 0.8151\n",
      "Epoch 18/100\n",
      "233/233 [==============================] - 16s 68ms/step - loss: 0.1764 - accuracy: 0.8276 - val_loss: 0.1920 - val_accuracy: 0.8126\n",
      "Epoch 19/100\n",
      "233/233 [==============================] - 16s 68ms/step - loss: 0.1738 - accuracy: 0.8303 - val_loss: 0.1893 - val_accuracy: 0.8151\n",
      "Epoch 20/100\n",
      "233/233 [==============================] - 16s 68ms/step - loss: 0.1719 - accuracy: 0.8329 - val_loss: 0.1887 - val_accuracy: 0.8170\n",
      "Epoch 21/100\n",
      "233/233 [==============================] - 16s 67ms/step - loss: 0.1713 - accuracy: 0.8337 - val_loss: 0.1908 - val_accuracy: 0.8116\n",
      "Epoch 22/100\n",
      "233/233 [==============================] - 16s 67ms/step - loss: 0.1672 - accuracy: 0.8382 - val_loss: 0.1886 - val_accuracy: 0.8152\n",
      "Epoch 23/100\n",
      "233/233 [==============================] - 16s 67ms/step - loss: 0.1659 - accuracy: 0.8392 - val_loss: 0.1877 - val_accuracy: 0.8175\n",
      "Epoch 24/100\n",
      "233/233 [==============================] - 16s 67ms/step - loss: 0.1649 - accuracy: 0.8394 - val_loss: 0.1960 - val_accuracy: 0.8101\n",
      "Epoch 25/100\n",
      "233/233 [==============================] - 16s 67ms/step - loss: 0.1629 - accuracy: 0.8428 - val_loss: 0.1921 - val_accuracy: 0.8123\n",
      "Epoch 26/100\n",
      "233/233 [==============================] - 16s 69ms/step - loss: 0.1594 - accuracy: 0.8459 - val_loss: 0.1928 - val_accuracy: 0.8132\n",
      "Epoch 27/100\n",
      "233/233 [==============================] - 16s 70ms/step - loss: 0.1592 - accuracy: 0.8459 - val_loss: 0.1920 - val_accuracy: 0.8123\n",
      "Epoch 28/100\n",
      "233/233 [==============================] - 17s 71ms/step - loss: 0.1565 - accuracy: 0.8489 - val_loss: 0.1943 - val_accuracy: 0.8055\n",
      "Epoch 29/100\n",
      "233/233 [==============================] - 17s 73ms/step - loss: 0.1561 - accuracy: 0.8491 - val_loss: 0.1940 - val_accuracy: 0.8092\n",
      "Epoch 30/100\n",
      "233/233 [==============================] - 17s 72ms/step - loss: 0.1547 - accuracy: 0.8508 - val_loss: 0.1988 - val_accuracy: 0.8070\n",
      "Epoch 31/100\n",
      "233/233 [==============================] - 17s 71ms/step - loss: 0.1519 - accuracy: 0.8538 - val_loss: 0.1915 - val_accuracy: 0.8113\n",
      "Epoch 32/100\n",
      "233/233 [==============================] - 16s 70ms/step - loss: 0.1516 - accuracy: 0.8553 - val_loss: 0.1904 - val_accuracy: 0.8148\n",
      "Epoch 33/100\n",
      "233/233 [==============================] - 16s 70ms/step - loss: 0.1499 - accuracy: 0.8544 - val_loss: 0.1931 - val_accuracy: 0.8132\n",
      "Epoch 34/100\n",
      "233/233 [==============================] - 16s 69ms/step - loss: 0.1481 - accuracy: 0.8583 - val_loss: 0.1932 - val_accuracy: 0.8126\n",
      "Epoch 35/100\n",
      "233/233 [==============================] - 16s 71ms/step - loss: 0.1467 - accuracy: 0.8594 - val_loss: 0.2000 - val_accuracy: 0.8086\n",
      "Epoch 36/100\n",
      "233/233 [==============================] - 15s 66ms/step - loss: 0.1464 - accuracy: 0.8605 - val_loss: 0.1992 - val_accuracy: 0.8092\n",
      "Epoch 37/100\n",
      "233/233 [==============================] - 16s 67ms/step - loss: 0.1444 - accuracy: 0.8617 - val_loss: 0.1978 - val_accuracy: 0.8137\n",
      "Epoch 38/100\n",
      "233/233 [==============================] - 16s 67ms/step - loss: 0.1429 - accuracy: 0.8636 - val_loss: 0.1981 - val_accuracy: 0.8087\n",
      "Epoch 39/100\n",
      "233/233 [==============================] - 16s 68ms/step - loss: 0.1411 - accuracy: 0.8662 - val_loss: 0.1999 - val_accuracy: 0.8061\n",
      "Epoch 40/100\n",
      "233/233 [==============================] - 15s 66ms/step - loss: 0.1401 - accuracy: 0.8662 - val_loss: 0.2071 - val_accuracy: 0.8021\n",
      "Epoch 41/100\n",
      "233/233 [==============================] - 16s 69ms/step - loss: 0.1399 - accuracy: 0.8660 - val_loss: 0.2071 - val_accuracy: 0.8001\n",
      "Epoch 42/100\n",
      "233/233 [==============================] - 16s 67ms/step - loss: 0.1378 - accuracy: 0.8686 - val_loss: 0.1975 - val_accuracy: 0.8092\n",
      "Epoch 43/100\n",
      "233/233 [==============================] - 16s 67ms/step - loss: 0.1377 - accuracy: 0.8686 - val_loss: 0.2011 - val_accuracy: 0.8069\n",
      "Epoch 44/100\n",
      "233/233 [==============================] - 16s 67ms/step - loss: 0.1357 - accuracy: 0.8718 - val_loss: 0.1964 - val_accuracy: 0.8095\n",
      "Epoch 45/100\n",
      "233/233 [==============================] - 16s 68ms/step - loss: 0.1334 - accuracy: 0.8741 - val_loss: 0.2018 - val_accuracy: 0.8063\n",
      "Epoch 46/100\n",
      "233/233 [==============================] - 16s 69ms/step - loss: 0.1342 - accuracy: 0.8713 - val_loss: 0.2091 - val_accuracy: 0.8010\n",
      "Epoch 47/100\n",
      "233/233 [==============================] - 16s 69ms/step - loss: 0.1326 - accuracy: 0.8754 - val_loss: 0.2038 - val_accuracy: 0.8054\n",
      "Epoch 48/100\n",
      "233/233 [==============================] - 16s 68ms/step - loss: 0.1316 - accuracy: 0.8760 - val_loss: 0.2051 - val_accuracy: 0.8004\n",
      "Epoch 49/100\n",
      "233/233 [==============================] - 16s 68ms/step - loss: 0.1311 - accuracy: 0.8759 - val_loss: 0.2068 - val_accuracy: 0.8043\n",
      "Epoch 50/100\n",
      "233/233 [==============================] - 16s 68ms/step - loss: 0.1310 - accuracy: 0.8764 - val_loss: 0.2151 - val_accuracy: 0.7948\n",
      "Epoch 51/100\n",
      "233/233 [==============================] - 16s 68ms/step - loss: 0.1270 - accuracy: 0.8801 - val_loss: 0.2103 - val_accuracy: 0.8002\n",
      "Epoch 52/100\n",
      "233/233 [==============================] - 16s 67ms/step - loss: 0.1278 - accuracy: 0.8793 - val_loss: 0.2068 - val_accuracy: 0.7992\n",
      "Epoch 53/100\n",
      "233/233 [==============================] - 16s 69ms/step - loss: 0.1256 - accuracy: 0.8810 - val_loss: 0.2042 - val_accuracy: 0.8033\n",
      "Epoch 54/100\n",
      "233/233 [==============================] - 16s 68ms/step - loss: 0.1247 - accuracy: 0.8815 - val_loss: 0.2071 - val_accuracy: 0.8028\n",
      "Epoch 55/100\n",
      "233/233 [==============================] - 16s 67ms/step - loss: 0.1251 - accuracy: 0.8823 - val_loss: 0.2127 - val_accuracy: 0.7996\n",
      "Epoch 56/100\n",
      "233/233 [==============================] - 16s 67ms/step - loss: 0.1245 - accuracy: 0.8826 - val_loss: 0.2116 - val_accuracy: 0.8007\n",
      "Epoch 57/100\n",
      "233/233 [==============================] - 16s 68ms/step - loss: 0.1224 - accuracy: 0.8856 - val_loss: 0.2066 - val_accuracy: 0.8015\n",
      "Epoch 58/100\n",
      "233/233 [==============================] - 16s 68ms/step - loss: 0.1237 - accuracy: 0.8825 - val_loss: 0.2107 - val_accuracy: 0.8019\n",
      "Epoch 59/100\n",
      "233/233 [==============================] - 16s 68ms/step - loss: 0.1220 - accuracy: 0.8853 - val_loss: 0.2067 - val_accuracy: 0.8052\n",
      "Epoch 60/100\n",
      "233/233 [==============================] - 16s 71ms/step - loss: 0.1218 - accuracy: 0.8845 - val_loss: 0.2124 - val_accuracy: 0.7995\n",
      "Epoch 61/100\n",
      "233/233 [==============================] - 16s 70ms/step - loss: 0.1204 - accuracy: 0.8878 - val_loss: 0.2109 - val_accuracy: 0.8019\n",
      "Epoch 62/100\n",
      "233/233 [==============================] - 16s 67ms/step - loss: 0.1189 - accuracy: 0.8884 - val_loss: 0.2117 - val_accuracy: 0.8008\n",
      "Epoch 63/100\n",
      "233/233 [==============================] - 16s 69ms/step - loss: 0.1180 - accuracy: 0.8897 - val_loss: 0.2198 - val_accuracy: 0.7986\n",
      "Epoch 64/100\n",
      "233/233 [==============================] - 16s 68ms/step - loss: 0.1190 - accuracy: 0.8871 - val_loss: 0.2171 - val_accuracy: 0.7954\n",
      "Epoch 65/100\n",
      "233/233 [==============================] - 16s 67ms/step - loss: 0.1168 - accuracy: 0.8896 - val_loss: 0.2196 - val_accuracy: 0.7992\n",
      "Epoch 65: early stopping\n"
     ]
    }
   ],
   "source": [
    "#model training\n",
    "hist = model.fit(word_seq_train, y_train, batch_size=batch_size, epochs=num_epochs,validation_split=0.1, shuffle=True, verbose=1, callbacks=[es])"
   ]
  },
  {
   "cell_type": "code",
   "execution_count": 29,
   "id": "c90b3132",
   "metadata": {},
   "outputs": [],
   "source": [
    "from matplotlib import pyplot"
   ]
  },
  {
   "cell_type": "code",
   "execution_count": 30,
   "id": "1efd7420",
   "metadata": {},
   "outputs": [
    {
     "data": {
      "text/plain": [
       "[<matplotlib.lines.Line2D at 0x7f486a4ca430>]"
      ]
     },
     "execution_count": 30,
     "metadata": {},
     "output_type": "execute_result"
    },
    {
     "data": {
      "image/png": "[encoded data removed]",
      "text/plain": [
       "<Figure size 432x288 with 1 Axes>"
      ]
     },
     "metadata": {
      "needs_background": "light"
     },
     "output_type": "display_data"
    }
   ],
   "source": [
    "pyplot.plot(hist.history['loss'], label='train')\n",
    "pyplot.plot(hist.history['val_loss'], label='test')"
   ]
  },
  {
   "cell_type": "code",
   "execution_count": 31,
   "id": "0513ea8d",
   "metadata": {},
   "outputs": [
    {
     "data": {
      "image/png": "[encoded data removed]",
      "text/plain": [
       "<Figure size 432x288 with 1 Axes>"
      ]
     },
     "metadata": {
      "needs_background": "light"
     },
     "output_type": "display_data"
    },
    {
     "data": {
      "image/png": "[encoded data removed]",
      "text/plain": [
       "<Figure size 432x288 with 1 Axes>"
      ]
     },
     "metadata": {
      "needs_background": "light"
     },
     "output_type": "display_data"
    }
   ],
   "source": [
    "plt.plot(hist.history['accuracy'])\n",
    "plt.plot(hist.history['val_accuracy'])\n",
    "#plt.title('model accuracy')\n",
    "plt.ylabel('accuracy')\n",
    "plt.xlabel('epoch')\n",
    "plt.legend(['train', 'validation'], loc='upper left')\n",
    "plt.savefig(\"main_cat_cnn_acc.pdf\", format=\"pdf\", bbox_inches=\"tight\")\n",
    "plt.show()\n",
    "# summarize history for loss\n",
    "plt.plot(hist.history['loss'])\n",
    "plt.plot(hist.history['val_loss'])\n",
    "#plt.title('model loss')\n",
    "plt.ylabel('loss')\n",
    "plt.xlabel('epoch')\n",
    "plt.legend(['train', 'validation'], loc='upper left')\n",
    "plt.savefig(\"main_cat_cnn_loss.pdf\", format=\"pdf\", bbox_inches=\"tight\")\n",
    "plt.show()"
   ]
  },
  {
   "cell_type": "code",
   "execution_count": 32,
   "id": "60166540",
   "metadata": {},
   "outputs": [],
   "source": [
    "model.save('main_cat_predector_cnn.h5')"
   ]
  },
  {
   "cell_type": "code",
   "execution_count": 33,
   "id": "5a2dd1ac",
   "metadata": {},
   "outputs": [
    {
     "name": "stdout",
     "output_type": "stream",
     "text": [
      "2067/2067 [==============================] - 7s 3ms/step - loss: 0.0965 - accuracy: 0.9211\n",
      "517/517 [==============================] - 2s 3ms/step - loss: 0.2096 - accuracy: 0.8053\n",
      "Train: 0.921, Test: 0.805\n"
     ]
    }
   ],
   "source": [
    "# evaluate the model\n",
    "_, train_acc = model.evaluate(word_seq_train, y_train, verbose=1)\n",
    "_, test_acc = model.evaluate(word_seq_test, y_test, verbose=1)\n",
    "print('Train: %.3f, Test: %.3f' % (train_acc, test_acc))"
   ]
  },
  {
   "cell_type": "code",
   "execution_count": 34,
   "id": "edc5bae2",
   "metadata": {},
   "outputs": [],
   "source": [
    "from keras.layers import Dense, Embedding, LSTM, SpatialDropout1D, Bidirectional, Dropout"
   ]
  },
  {
   "cell_type": "code",
   "execution_count": 35,
   "id": "519dc1c9",
   "metadata": {},
   "outputs": [
    {
     "name": "stdout",
     "output_type": "stream",
     "text": [
      "Model: \"sequential_1\"\n",
      "_________________________________________________________________\n",
      " Layer (type)                Output Shape              Param #   \n",
      "=================================================================\n",
      " embedding_1 (Embedding)     (None, 175, 300)          39489600  \n",
      "                                                                 \n",
      " bidirectional (Bidirectiona  (None, 256)              439296    \n",
      " l)                                                              \n",
      "                                                                 \n",
      " dense_2 (Dense)             (None, 128)               32896     \n",
      "                                                                 \n",
      " dropout_1 (Dropout)         (None, 128)               0         \n",
      "                                                                 \n",
      " dense_3 (Dense)             (None, 64)                8256      \n",
      "                                                                 \n",
      " dense_4 (Dense)             (None, 5)                 325       \n",
      "                                                                 \n",
      "=================================================================\n",
      "Total params: 39,970,373\n",
      "Trainable params: 480,773\n",
      "Non-trainable params: 39,489,600\n",
      "_________________________________________________________________\n"
     ]
    }
   ],
   "source": [
    "#Bi-LSTM\n",
    "lstm_out=128\n",
    "model_LSTM = keras.Sequential()\n",
    "model_LSTM.add(Embedding(nb_words, embed_dim,\n",
    "          weights=[embedding_matrix], input_length=max_seq_len, trainable=False))\n",
    "model_LSTM.add(Bidirectional(LSTM(lstm_out, dropout=0.2)))\n",
    "model_LSTM.add(Dense(128, activation = 'relu'))\n",
    "model_LSTM.add(Dropout(0.5))\n",
    "model_LSTM.add(Dense(64, activation = 'relu'))\n",
    "model_LSTM.add(Dense(num_classes, activation='softmax'))  #multi-label (k-hot encoding)\n",
    "adam = tf.optimizers.Adam()\n",
    "model_LSTM.compile(loss='binary_crossentropy', optimizer=adam, metrics=['accuracy'])\n",
    "model_LSTM.summary()"
   ]
  },
  {
   "cell_type": "code",
   "execution_count": 36,
   "id": "f8d5f665",
   "metadata": {},
   "outputs": [],
   "source": [
    "from keras.callbacks import ModelCheckpoint"
   ]
  },
  {
   "cell_type": "code",
   "execution_count": 37,
   "id": "8599d67e",
   "metadata": {},
   "outputs": [],
   "source": [
    "mc = ModelCheckpoint('main_cat_predictor_biLstm.h5', monitor='val_accuracy', mode='max', verbose=1, save_best_only=True)"
   ]
  },
  {
   "cell_type": "code",
   "execution_count": 38,
   "id": "723024b2",
   "metadata": {},
   "outputs": [],
   "source": [
    "#training params\n",
    "batch_size_LSTM = 256\n",
    "num_epochs_LSTM = 100"
   ]
  },
  {
   "cell_type": "code",
   "execution_count": 39,
   "id": "c20fec9d",
   "metadata": {},
   "outputs": [
    {
     "name": "stdout",
     "output_type": "stream",
     "text": [
      "Epoch 1/100\n",
      "233/233 [==============================] - ETA: 0s - loss: 0.3831 - accuracy: 0.5069\n",
      "Epoch 1: val_accuracy improved from -inf to 0.67398, saving model to main_cat_predictor_biLstm.h5\n",
      "233/233 [==============================] - 111s 461ms/step - loss: 0.3831 - accuracy: 0.5069 - val_loss: 0.2839 - val_accuracy: 0.6740\n",
      "Epoch 2/100\n",
      "233/233 [==============================] - ETA: 0s - loss: 0.2686 - accuracy: 0.6979\n",
      "Epoch 2: val_accuracy improved from 0.67398 to 0.73945, saving model to main_cat_predictor_biLstm.h5\n",
      "233/233 [==============================] - 110s 471ms/step - loss: 0.2686 - accuracy: 0.6979 - val_loss: 0.2424 - val_accuracy: 0.7395\n",
      "Epoch 3/100\n",
      "233/233 [==============================] - ETA: 0s - loss: 0.2283 - accuracy: 0.7628\n",
      "Epoch 3: val_accuracy improved from 0.73945 to 0.78467, saving model to main_cat_predictor_biLstm.h5\n",
      "233/233 [==============================] - 109s 470ms/step - loss: 0.2283 - accuracy: 0.7628 - val_loss: 0.2137 - val_accuracy: 0.7847\n",
      "Epoch 4/100\n",
      "233/233 [==============================] - ETA: 0s - loss: 0.2087 - accuracy: 0.7880\n",
      "Epoch 4: val_accuracy improved from 0.78467 to 0.78739, saving model to main_cat_predictor_biLstm.h5\n",
      "233/233 [==============================] - 102s 439ms/step - loss: 0.2087 - accuracy: 0.7880 - val_loss: 0.2064 - val_accuracy: 0.7874\n",
      "Epoch 5/100\n",
      "233/233 [==============================] - ETA: 0s - loss: 0.1967 - accuracy: 0.7995\n",
      "Epoch 5: val_accuracy improved from 0.78739 to 0.79450, saving model to main_cat_predictor_biLstm.h5\n",
      "233/233 [==============================] - 104s 446ms/step - loss: 0.1967 - accuracy: 0.7995 - val_loss: 0.1990 - val_accuracy: 0.7945\n",
      "Epoch 6/100\n",
      "233/233 [==============================] - ETA: 0s - loss: 0.1902 - accuracy: 0.8064\n",
      "Epoch 6: val_accuracy improved from 0.79450 to 0.80251, saving model to main_cat_predictor_biLstm.h5\n",
      "233/233 [==============================] - 109s 468ms/step - loss: 0.1902 - accuracy: 0.8064 - val_loss: 0.1924 - val_accuracy: 0.8025\n",
      "Epoch 7/100\n",
      "233/233 [==============================] - ETA: 0s - loss: 0.1840 - accuracy: 0.8110\n",
      "Epoch 7: val_accuracy improved from 0.80251 to 0.80871, saving model to main_cat_predictor_biLstm.h5\n",
      "233/233 [==============================] - 106s 457ms/step - loss: 0.1840 - accuracy: 0.8110 - val_loss: 0.1876 - val_accuracy: 0.8087\n",
      "Epoch 8/100\n",
      "233/233 [==============================] - ETA: 0s - loss: 0.1779 - accuracy: 0.8191\n",
      "Epoch 8: val_accuracy improved from 0.80871 to 0.81037, saving model to main_cat_predictor_biLstm.h5\n",
      "233/233 [==============================] - 109s 469ms/step - loss: 0.1779 - accuracy: 0.8191 - val_loss: 0.1809 - val_accuracy: 0.8104\n",
      "Epoch 9/100\n",
      "233/233 [==============================] - ETA: 0s - loss: 0.1750 - accuracy: 0.8226\n",
      "Epoch 9: val_accuracy improved from 0.81037 to 0.81748, saving model to main_cat_predictor_biLstm.h5\n",
      "233/233 [==============================] - 106s 457ms/step - loss: 0.1750 - accuracy: 0.8226 - val_loss: 0.1783 - val_accuracy: 0.8175\n",
      "Epoch 10/100\n",
      "233/233 [==============================] - ETA: 0s - loss: 0.1699 - accuracy: 0.8271\n",
      "Epoch 10: val_accuracy improved from 0.81748 to 0.82035, saving model to main_cat_predictor_biLstm.h5\n",
      "233/233 [==============================] - 104s 445ms/step - loss: 0.1699 - accuracy: 0.8271 - val_loss: 0.1781 - val_accuracy: 0.8204\n",
      "Epoch 11/100\n",
      "233/233 [==============================] - ETA: 0s - loss: 0.1664 - accuracy: 0.8316\n",
      "Epoch 11: val_accuracy improved from 0.82035 to 0.82202, saving model to main_cat_predictor_biLstm.h5\n",
      "233/233 [==============================] - 102s 439ms/step - loss: 0.1664 - accuracy: 0.8316 - val_loss: 0.1748 - val_accuracy: 0.8220\n",
      "Epoch 12/100\n",
      "233/233 [==============================] - ETA: 0s - loss: 0.1618 - accuracy: 0.8362\n",
      "Epoch 12: val_accuracy improved from 0.82202 to 0.82247, saving model to main_cat_predictor_biLstm.h5\n",
      "233/233 [==============================] - 100s 427ms/step - loss: 0.1618 - accuracy: 0.8362 - val_loss: 0.1726 - val_accuracy: 0.8225\n",
      "Epoch 13/100\n",
      "233/233 [==============================] - ETA: 0s - loss: 0.1599 - accuracy: 0.8387\n",
      "Epoch 13: val_accuracy did not improve from 0.82247\n",
      "233/233 [==============================] - 98s 419ms/step - loss: 0.1599 - accuracy: 0.8387 - val_loss: 0.1813 - val_accuracy: 0.8213\n",
      "Epoch 14/100\n",
      "233/233 [==============================] - ETA: 0s - loss: 0.1560 - accuracy: 0.8425\n",
      "Epoch 14: val_accuracy improved from 0.82247 to 0.82852, saving model to main_cat_predictor_biLstm.h5\n",
      "233/233 [==============================] - 99s 424ms/step - loss: 0.1560 - accuracy: 0.8425 - val_loss: 0.1727 - val_accuracy: 0.8285\n",
      "Epoch 15/100\n",
      "233/233 [==============================] - ETA: 0s - loss: 0.1520 - accuracy: 0.8452\n",
      "Epoch 15: val_accuracy did not improve from 0.82852\n",
      "233/233 [==============================] - 98s 421ms/step - loss: 0.1520 - accuracy: 0.8452 - val_loss: 0.1757 - val_accuracy: 0.8155\n",
      "Epoch 16/100\n",
      "233/233 [==============================] - ETA: 0s - loss: 0.1485 - accuracy: 0.8500\n",
      "Epoch 16: val_accuracy improved from 0.82852 to 0.83033, saving model to main_cat_predictor_biLstm.h5\n",
      "233/233 [==============================] - 99s 427ms/step - loss: 0.1485 - accuracy: 0.8500 - val_loss: 0.1728 - val_accuracy: 0.8303\n",
      "Epoch 17/100\n",
      "233/233 [==============================] - ETA: 0s - loss: 0.1457 - accuracy: 0.8522\n",
      "Epoch 17: val_accuracy did not improve from 0.83033\n",
      "233/233 [==============================] - 98s 420ms/step - loss: 0.1457 - accuracy: 0.8522 - val_loss: 0.1738 - val_accuracy: 0.8285\n",
      "Epoch 18/100\n",
      "233/233 [==============================] - ETA: 0s - loss: 0.1423 - accuracy: 0.8558\n",
      "Epoch 18: val_accuracy did not improve from 0.83033\n",
      "233/233 [==============================] - 98s 419ms/step - loss: 0.1423 - accuracy: 0.8558 - val_loss: 0.1678 - val_accuracy: 0.8299\n",
      "Epoch 19/100\n",
      "233/233 [==============================] - ETA: 0s - loss: 0.1394 - accuracy: 0.8596\n",
      "Epoch 19: val_accuracy improved from 0.83033 to 0.83260, saving model to main_cat_predictor_biLstm.h5\n",
      "233/233 [==============================] - 99s 423ms/step - loss: 0.1394 - accuracy: 0.8596 - val_loss: 0.1699 - val_accuracy: 0.8326\n",
      "Epoch 20/100\n",
      "233/233 [==============================] - ETA: 0s - loss: 0.1357 - accuracy: 0.8640\n",
      "Epoch 20: val_accuracy did not improve from 0.83260\n",
      "233/233 [==============================] - 98s 422ms/step - loss: 0.1357 - accuracy: 0.8640 - val_loss: 0.1822 - val_accuracy: 0.8243\n",
      "Epoch 21/100\n",
      "233/233 [==============================] - ETA: 0s - loss: 0.1330 - accuracy: 0.8665\n",
      "Epoch 21: val_accuracy did not improve from 0.83260\n",
      "233/233 [==============================] - 98s 421ms/step - loss: 0.1330 - accuracy: 0.8665 - val_loss: 0.1767 - val_accuracy: 0.8326\n",
      "Epoch 22/100\n",
      "233/233 [==============================] - ETA: 0s - loss: 0.1286 - accuracy: 0.8709\n",
      "Epoch 22: val_accuracy did not improve from 0.83260\n",
      "233/233 [==============================] - 100s 429ms/step - loss: 0.1286 - accuracy: 0.8709 - val_loss: 0.1716 - val_accuracy: 0.8259\n",
      "Epoch 23/100\n",
      "233/233 [==============================] - ETA: 0s - loss: 0.1241 - accuracy: 0.8756\n",
      "Epoch 23: val_accuracy improved from 0.83260 to 0.83396, saving model to main_cat_predictor_biLstm.h5\n",
      "233/233 [==============================] - 101s 432ms/step - loss: 0.1241 - accuracy: 0.8756 - val_loss: 0.1769 - val_accuracy: 0.8340\n",
      "Epoch 24/100\n",
      "233/233 [==============================] - ETA: 0s - loss: 0.1223 - accuracy: 0.8772\n",
      "Epoch 24: val_accuracy improved from 0.83396 to 0.83684, saving model to main_cat_predictor_biLstm.h5\n",
      "233/233 [==============================] - 100s 431ms/step - loss: 0.1223 - accuracy: 0.8772 - val_loss: 0.1742 - val_accuracy: 0.8368\n",
      "Epoch 25/100\n",
      "233/233 [==============================] - ETA: 0s - loss: 0.1183 - accuracy: 0.8806\n",
      "Epoch 25: val_accuracy did not improve from 0.83684\n",
      "233/233 [==============================] - 98s 421ms/step - loss: 0.1183 - accuracy: 0.8806 - val_loss: 0.1779 - val_accuracy: 0.8259\n",
      "Epoch 26/100\n",
      "233/233 [==============================] - ETA: 0s - loss: 0.1133 - accuracy: 0.8864\n",
      "Epoch 26: val_accuracy did not improve from 0.83684\n",
      "233/233 [==============================] - 98s 422ms/step - loss: 0.1133 - accuracy: 0.8864 - val_loss: 0.1787 - val_accuracy: 0.8328\n"
     ]
    },
    {
     "name": "stdout",
     "output_type": "stream",
     "text": [
      "Epoch 27/100\n",
      "233/233 [==============================] - ETA: 0s - loss: 0.1097 - accuracy: 0.8877\n",
      "Epoch 27: val_accuracy did not improve from 0.83684\n",
      "233/233 [==============================] - 100s 429ms/step - loss: 0.1097 - accuracy: 0.8877 - val_loss: 0.1951 - val_accuracy: 0.8314\n",
      "Epoch 28/100\n",
      "233/233 [==============================] - ETA: 0s - loss: 0.1073 - accuracy: 0.8913\n",
      "Epoch 28: val_accuracy did not improve from 0.83684\n",
      "233/233 [==============================] - 99s 425ms/step - loss: 0.1073 - accuracy: 0.8913 - val_loss: 0.1997 - val_accuracy: 0.8285\n",
      "Epoch 29/100\n",
      "233/233 [==============================] - ETA: 0s - loss: 0.1048 - accuracy: 0.8948\n",
      "Epoch 29: val_accuracy did not improve from 0.83684\n",
      "233/233 [==============================] - 99s 426ms/step - loss: 0.1048 - accuracy: 0.8948 - val_loss: 0.1933 - val_accuracy: 0.8231\n",
      "Epoch 30/100\n",
      "233/233 [==============================] - ETA: 0s - loss: 0.0998 - accuracy: 0.8998\n",
      "Epoch 30: val_accuracy did not improve from 0.83684\n",
      "233/233 [==============================] - 98s 420ms/step - loss: 0.0998 - accuracy: 0.8998 - val_loss: 0.2026 - val_accuracy: 0.8219\n",
      "Epoch 31/100\n",
      "233/233 [==============================] - ETA: 0s - loss: 0.0965 - accuracy: 0.9039\n",
      "Epoch 31: val_accuracy did not improve from 0.83684\n",
      "233/233 [==============================] - 99s 427ms/step - loss: 0.0965 - accuracy: 0.9039 - val_loss: 0.2011 - val_accuracy: 0.8315\n",
      "Epoch 32/100\n",
      "233/233 [==============================] - ETA: 0s - loss: 0.0928 - accuracy: 0.9065\n",
      "Epoch 32: val_accuracy did not improve from 0.83684\n",
      "233/233 [==============================] - 97s 415ms/step - loss: 0.0928 - accuracy: 0.9065 - val_loss: 0.2169 - val_accuracy: 0.8246\n",
      "Epoch 33/100\n",
      "233/233 [==============================] - ETA: 0s - loss: 0.0893 - accuracy: 0.9099\n",
      "Epoch 33: val_accuracy did not improve from 0.83684\n",
      "233/233 [==============================] - 101s 433ms/step - loss: 0.0893 - accuracy: 0.9099 - val_loss: 0.2202 - val_accuracy: 0.8231\n",
      "Epoch 34/100\n",
      "233/233 [==============================] - ETA: 0s - loss: 0.0855 - accuracy: 0.9149\n",
      "Epoch 34: val_accuracy did not improve from 0.83684\n",
      "233/233 [==============================] - 100s 427ms/step - loss: 0.0855 - accuracy: 0.9149 - val_loss: 0.2124 - val_accuracy: 0.8306\n",
      "Epoch 35/100\n",
      "233/233 [==============================] - ETA: 0s - loss: 0.0818 - accuracy: 0.9182\n",
      "Epoch 35: val_accuracy did not improve from 0.83684\n",
      "233/233 [==============================] - 104s 447ms/step - loss: 0.0818 - accuracy: 0.9182 - val_loss: 0.2190 - val_accuracy: 0.8281\n",
      "Epoch 36/100\n",
      "233/233 [==============================] - ETA: 0s - loss: 0.0804 - accuracy: 0.9200\n",
      "Epoch 36: val_accuracy did not improve from 0.83684\n",
      "233/233 [==============================] - 100s 429ms/step - loss: 0.0804 - accuracy: 0.9200 - val_loss: 0.2211 - val_accuracy: 0.8269\n",
      "Epoch 37/100\n",
      "233/233 [==============================] - ETA: 0s - loss: 0.0764 - accuracy: 0.9227\n",
      "Epoch 37: val_accuracy did not improve from 0.83684\n",
      "233/233 [==============================] - 101s 434ms/step - loss: 0.0764 - accuracy: 0.9227 - val_loss: 0.2348 - val_accuracy: 0.8225\n",
      "Epoch 38/100\n",
      "233/233 [==============================] - ETA: 0s - loss: 0.0720 - accuracy: 0.9292\n",
      "Epoch 38: val_accuracy did not improve from 0.83684\n",
      "233/233 [==============================] - 100s 427ms/step - loss: 0.0720 - accuracy: 0.9292 - val_loss: 0.2359 - val_accuracy: 0.8259\n",
      "Epoch 39/100\n",
      "233/233 [==============================] - ETA: 0s - loss: 0.0710 - accuracy: 0.9295\n",
      "Epoch 39: val_accuracy did not improve from 0.83684\n",
      "233/233 [==============================] - 99s 426ms/step - loss: 0.0710 - accuracy: 0.9295 - val_loss: 0.2536 - val_accuracy: 0.8208\n",
      "Epoch 40/100\n",
      "233/233 [==============================] - ETA: 0s - loss: 0.0681 - accuracy: 0.9330\n",
      "Epoch 40: val_accuracy did not improve from 0.83684\n",
      "233/233 [==============================] - 96s 413ms/step - loss: 0.0681 - accuracy: 0.9330 - val_loss: 0.2468 - val_accuracy: 0.8178\n",
      "Epoch 41/100\n",
      "233/233 [==============================] - ETA: 0s - loss: 0.0648 - accuracy: 0.9354\n",
      "Epoch 41: val_accuracy did not improve from 0.83684\n",
      "233/233 [==============================] - 97s 418ms/step - loss: 0.0648 - accuracy: 0.9354 - val_loss: 0.2670 - val_accuracy: 0.8188\n",
      "Epoch 42/100\n",
      "233/233 [==============================] - ETA: 0s - loss: 0.0608 - accuracy: 0.9404\n",
      "Epoch 42: val_accuracy did not improve from 0.83684\n",
      "233/233 [==============================] - 98s 421ms/step - loss: 0.0608 - accuracy: 0.9404 - val_loss: 0.2612 - val_accuracy: 0.8264\n",
      "Epoch 43/100\n",
      "233/233 [==============================] - ETA: 0s - loss: 0.0630 - accuracy: 0.9383\n",
      "Epoch 43: val_accuracy did not improve from 0.83684\n",
      "233/233 [==============================] - 102s 437ms/step - loss: 0.0630 - accuracy: 0.9383 - val_loss: 0.2696 - val_accuracy: 0.8219\n",
      "Epoch 44/100\n",
      "233/233 [==============================] - ETA: 0s - loss: 0.0571 - accuracy: 0.9437\n",
      "Epoch 44: val_accuracy did not improve from 0.83684\n",
      "233/233 [==============================] - 100s 428ms/step - loss: 0.0571 - accuracy: 0.9437 - val_loss: 0.2686 - val_accuracy: 0.8194\n",
      "Epoch 45/100\n",
      "233/233 [==============================] - ETA: 0s - loss: 0.0560 - accuracy: 0.9458\n",
      "Epoch 45: val_accuracy did not improve from 0.83684\n",
      "233/233 [==============================] - 101s 435ms/step - loss: 0.0560 - accuracy: 0.9458 - val_loss: 0.2867 - val_accuracy: 0.8201\n",
      "Epoch 46/100\n",
      "233/233 [==============================] - ETA: 0s - loss: 0.0533 - accuracy: 0.9481\n",
      "Epoch 46: val_accuracy did not improve from 0.83684\n",
      "233/233 [==============================] - 98s 420ms/step - loss: 0.0533 - accuracy: 0.9481 - val_loss: 0.2688 - val_accuracy: 0.8190\n",
      "Epoch 47/100\n",
      "233/233 [==============================] - ETA: 0s - loss: 0.0530 - accuracy: 0.9488\n",
      "Epoch 47: val_accuracy did not improve from 0.83684\n",
      "233/233 [==============================] - 99s 425ms/step - loss: 0.0530 - accuracy: 0.9488 - val_loss: 0.2986 - val_accuracy: 0.8243\n",
      "Epoch 48/100\n",
      "233/233 [==============================] - ETA: 0s - loss: 0.0485 - accuracy: 0.9531\n",
      "Epoch 48: val_accuracy did not improve from 0.83684\n",
      "233/233 [==============================] - 99s 426ms/step - loss: 0.0485 - accuracy: 0.9531 - val_loss: 0.3050 - val_accuracy: 0.8199\n",
      "Epoch 49/100\n",
      "233/233 [==============================] - ETA: 0s - loss: 0.0476 - accuracy: 0.9547\n",
      "Epoch 49: val_accuracy did not improve from 0.83684\n",
      "233/233 [==============================] - 100s 431ms/step - loss: 0.0476 - accuracy: 0.9547 - val_loss: 0.2959 - val_accuracy: 0.8140\n",
      "Epoch 50/100\n",
      "233/233 [==============================] - ETA: 0s - loss: 0.0446 - accuracy: 0.9568\n",
      "Epoch 50: val_accuracy did not improve from 0.83684\n",
      "233/233 [==============================] - 100s 429ms/step - loss: 0.0446 - accuracy: 0.9568 - val_loss: 0.3148 - val_accuracy: 0.8145\n",
      "Epoch 51/100\n",
      "233/233 [==============================] - ETA: 0s - loss: 0.0431 - accuracy: 0.9593\n",
      "Epoch 51: val_accuracy did not improve from 0.83684\n",
      "233/233 [==============================] - 101s 433ms/step - loss: 0.0431 - accuracy: 0.9593 - val_loss: 0.3201 - val_accuracy: 0.8146\n",
      "Epoch 52/100\n",
      "233/233 [==============================] - ETA: 0s - loss: 0.0422 - accuracy: 0.9594\n",
      "Epoch 52: val_accuracy did not improve from 0.83684\n",
      "233/233 [==============================] - 101s 434ms/step - loss: 0.0422 - accuracy: 0.9594 - val_loss: 0.3144 - val_accuracy: 0.8256\n",
      "Epoch 53/100\n",
      "233/233 [==============================] - ETA: 0s - loss: 0.0415 - accuracy: 0.9608\n",
      "Epoch 53: val_accuracy did not improve from 0.83684\n",
      "233/233 [==============================] - 100s 429ms/step - loss: 0.0415 - accuracy: 0.9608 - val_loss: 0.3257 - val_accuracy: 0.8243\n",
      "Epoch 54/100\n",
      "233/233 [==============================] - ETA: 0s - loss: 0.0385 - accuracy: 0.9621\n",
      "Epoch 54: val_accuracy did not improve from 0.83684\n",
      "233/233 [==============================] - 100s 429ms/step - loss: 0.0385 - accuracy: 0.9621 - val_loss: 0.3283 - val_accuracy: 0.8123\n",
      "Epoch 55/100\n",
      "233/233 [==============================] - ETA: 0s - loss: 0.0392 - accuracy: 0.9624\n",
      "Epoch 55: val_accuracy did not improve from 0.83684\n",
      "233/233 [==============================] - 104s 445ms/step - loss: 0.0392 - accuracy: 0.9624 - val_loss: 0.3133 - val_accuracy: 0.8196\n"
     ]
    },
    {
     "name": "stdout",
     "output_type": "stream",
     "text": [
      "Epoch 56/100\n",
      "233/233 [==============================] - ETA: 0s - loss: 0.0349 - accuracy: 0.9671\n",
      "Epoch 56: val_accuracy did not improve from 0.83684\n",
      "233/233 [==============================] - 97s 416ms/step - loss: 0.0349 - accuracy: 0.9671 - val_loss: 0.3533 - val_accuracy: 0.8234\n",
      "Epoch 57/100\n",
      "233/233 [==============================] - ETA: 0s - loss: 0.0333 - accuracy: 0.9688\n",
      "Epoch 57: val_accuracy did not improve from 0.83684\n",
      "233/233 [==============================] - 99s 425ms/step - loss: 0.0333 - accuracy: 0.9688 - val_loss: 0.3366 - val_accuracy: 0.8235\n",
      "Epoch 58/100\n",
      "233/233 [==============================] - ETA: 0s - loss: 0.0326 - accuracy: 0.9692\n",
      "Epoch 58: val_accuracy did not improve from 0.83684\n",
      "233/233 [==============================] - 99s 425ms/step - loss: 0.0326 - accuracy: 0.9692 - val_loss: 0.3538 - val_accuracy: 0.8250\n",
      "Epoch 59/100\n",
      "233/233 [==============================] - ETA: 0s - loss: 0.0325 - accuracy: 0.9699\n",
      "Epoch 59: val_accuracy did not improve from 0.83684\n",
      "233/233 [==============================] - 99s 423ms/step - loss: 0.0325 - accuracy: 0.9699 - val_loss: 0.3570 - val_accuracy: 0.8208\n",
      "Epoch 60/100\n",
      "233/233 [==============================] - ETA: 0s - loss: 0.0337 - accuracy: 0.9689\n",
      "Epoch 60: val_accuracy did not improve from 0.83684\n",
      "233/233 [==============================] - 99s 423ms/step - loss: 0.0337 - accuracy: 0.9689 - val_loss: 0.3423 - val_accuracy: 0.8225\n",
      "Epoch 61/100\n",
      "233/233 [==============================] - ETA: 0s - loss: 0.0310 - accuracy: 0.9709\n",
      "Epoch 61: val_accuracy did not improve from 0.83684\n",
      "233/233 [==============================] - 101s 433ms/step - loss: 0.0310 - accuracy: 0.9709 - val_loss: 0.3462 - val_accuracy: 0.8223\n",
      "Epoch 62/100\n",
      "233/233 [==============================] - ETA: 0s - loss: 0.0305 - accuracy: 0.9713\n",
      "Epoch 62: val_accuracy did not improve from 0.83684\n",
      "233/233 [==============================] - 103s 443ms/step - loss: 0.0305 - accuracy: 0.9713 - val_loss: 0.3530 - val_accuracy: 0.8197\n",
      "Epoch 63/100\n",
      "233/233 [==============================] - ETA: 0s - loss: 0.0291 - accuracy: 0.9735\n",
      "Epoch 63: val_accuracy did not improve from 0.83684\n",
      "233/233 [==============================] - 100s 431ms/step - loss: 0.0291 - accuracy: 0.9735 - val_loss: 0.3453 - val_accuracy: 0.8202\n",
      "Epoch 64/100\n",
      "233/233 [==============================] - ETA: 0s - loss: 0.0267 - accuracy: 0.9755\n",
      "Epoch 64: val_accuracy did not improve from 0.83684\n",
      "233/233 [==============================] - 101s 434ms/step - loss: 0.0267 - accuracy: 0.9755 - val_loss: 0.3612 - val_accuracy: 0.8169\n",
      "Epoch 65/100\n",
      "233/233 [==============================] - ETA: 0s - loss: 0.0268 - accuracy: 0.9751\n",
      "Epoch 65: val_accuracy did not improve from 0.83684\n",
      "233/233 [==============================] - 103s 442ms/step - loss: 0.0268 - accuracy: 0.9751 - val_loss: 0.3781 - val_accuracy: 0.8211\n",
      "Epoch 66/100\n",
      "233/233 [==============================] - ETA: 0s - loss: 0.0255 - accuracy: 0.9767\n",
      "Epoch 66: val_accuracy did not improve from 0.83684\n",
      "233/233 [==============================] - 103s 444ms/step - loss: 0.0255 - accuracy: 0.9767 - val_loss: 0.3930 - val_accuracy: 0.8196\n",
      "Epoch 67/100\n",
      "233/233 [==============================] - ETA: 0s - loss: 0.0253 - accuracy: 0.9767\n",
      "Epoch 67: val_accuracy did not improve from 0.83684\n",
      "233/233 [==============================] - 101s 435ms/step - loss: 0.0253 - accuracy: 0.9767 - val_loss: 0.3741 - val_accuracy: 0.8231\n",
      "Epoch 68/100\n",
      "233/233 [==============================] - ETA: 0s - loss: 0.0250 - accuracy: 0.9769\n",
      "Epoch 68: val_accuracy did not improve from 0.83684\n",
      "233/233 [==============================] - 102s 437ms/step - loss: 0.0250 - accuracy: 0.9769 - val_loss: 0.3807 - val_accuracy: 0.8207\n",
      "Epoch 68: early stopping\n"
     ]
    }
   ],
   "source": [
    "hist_LSTM = model_LSTM.fit(word_seq_train, y_train, batch_size=batch_size_LSTM, epochs=num_epochs_LSTM,validation_split=0.1, shuffle=True, verbose=1,callbacks=[es, mc])"
   ]
  },
  {
   "cell_type": "code",
   "execution_count": 40,
   "id": "f9f086dc",
   "metadata": {},
   "outputs": [
    {
     "name": "stdout",
     "output_type": "stream",
     "text": [
      "2067/2067 [==============================] - 75s 36ms/step - loss: 0.0445 - accuracy: 0.9776\n",
      "517/517 [==============================] - 19s 36ms/step - loss: 0.3829 - accuracy: 0.8161\n",
      "Train: 0.978, Test: 0.816\n"
     ]
    }
   ],
   "source": [
    "# evaluate the model\n",
    "_, train_acc = model_LSTM.evaluate(word_seq_train, y_train, verbose=1)\n",
    "_, test_acc = model_LSTM.evaluate(word_seq_test, y_test, verbose=1)\n",
    "print('Train: %.3f, Test: %.3f' % (train_acc, test_acc))"
   ]
  },
  {
   "cell_type": "code",
   "execution_count": 41,
   "id": "ed21bae4",
   "metadata": {},
   "outputs": [
    {
     "data": {
      "text/plain": [
       "[<matplotlib.lines.Line2D at 0x7f4680662e80>]"
      ]
     },
     "execution_count": 41,
     "metadata": {},
     "output_type": "execute_result"
    },
    {
     "data": {
      "image/png": "[encoded data removed]",
      "text/plain": [
       "<Figure size 432x288 with 1 Axes>"
      ]
     },
     "metadata": {
      "needs_background": "light"
     },
     "output_type": "display_data"
    }
   ],
   "source": [
    "pyplot.plot(hist_LSTM.history['loss'], label='train')\n",
    "pyplot.plot(hist_LSTM.history['val_loss'], label='test')"
   ]
  },
  {
   "cell_type": "code",
   "execution_count": 42,
   "id": "95696761",
   "metadata": {},
   "outputs": [
    {
     "data": {
      "image/png": "[encoded data removed]",
      "text/plain": [
       "<Figure size 432x288 with 1 Axes>"
      ]
     },
     "metadata": {
      "needs_background": "light"
     },
     "output_type": "display_data"
    },
    {
     "data": {
      "image/png": "[encoded data removed]",
      "text/plain": [
       "<Figure size 432x288 with 1 Axes>"
      ]
     },
     "metadata": {
      "needs_background": "light"
     },
     "output_type": "display_data"
    }
   ],
   "source": [
    "plt.plot(hist_LSTM.history['accuracy'])\n",
    "plt.plot(hist_LSTM.history['val_accuracy'])\n",
    "#plt.title('model accuracy')\n",
    "plt.ylabel('accuracy')\n",
    "plt.xlabel('epoch')\n",
    "plt.legend(['train', 'validation'], loc='upper left')\n",
    "plt.savefig(\"main_cat_lstm_acc.pdf\", format=\"pdf\", bbox_inches=\"tight\")\n",
    "plt.show()\n",
    "# summarize history for loss\n",
    "plt.plot(hist_LSTM.history['loss'])\n",
    "plt.plot(hist_LSTM.history['val_loss'])\n",
    "#plt.title('model loss')\n",
    "plt.ylabel('loss')\n",
    "plt.xlabel('epoch')\n",
    "plt.legend(['train', 'validation'], loc='upper left')\n",
    "plt.savefig(\"main_cat_lstm_loss.pdf\", format=\"pdf\", bbox_inches=\"tight\")\n",
    "plt.show()"
   ]
  },
  {
   "cell_type": "code",
   "execution_count": null,
   "id": "3d8bdbc5",
   "metadata": {},
   "outputs": [],
   "source": []
  }
 ],
 "metadata": {
  "kernelspec": {
   "display_name": "Python 3 (ipykernel)",
   "language": "python",
   "name": "python3"
  },
  "language_info": {
   "codemirror_mode": {
    "name": "ipython",
    "version": 3
   },
   "file_extension": ".py",
   "mimetype": "text/x-python",
   "name": "python",
   "nbconvert_exporter": "python",
   "pygments_lexer": "ipython3",
   "version": "3.8.13"
  }
 },
 "nbformat": 4,
 "nbformat_minor": 5
}
